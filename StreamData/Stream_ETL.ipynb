{
 "cells": [
  {
   "cell_type": "code",
   "execution_count": 1,
   "metadata": {},
   "outputs": [],
   "source": [
    "from pyspark.sql import SparkSession\n",
    "from pyspark.sql.functions import *\n",
    "from pyspark.sql.types import *\n",
    "\n",
    "inputDirectory = \"./input/\"\n",
    "\n",
    "# Create the SparkSession\n",
    "spark = SparkSession.\\\n",
    "builder.\\\n",
    "appName(\"sparkstream\").\\\n",
    "getOrCreate()\n",
    "\n",
    "fileSchema = (StructType([\\\n",
    "                       StructField(\"userID\", IntegerType(), True),\n",
    "                       StructField(\"name\", StringType(), True),\n",
    "                       StructField(\"age\",IntegerType(), True),\n",
    "                       StructField(\"friends\",IntegerType(), True),\n",
    "                        ]))\n",
    "\n",
    "\n",
    "inputDF = (spark \n",
    "    .readStream \n",
    "    .format(\"csv\") \n",
    "    .schema(fileSchema)   \n",
    "    .load(inputDirectory))\n",
    "\n",
    "\n"
   ]
  },
  {
   "cell_type": "code",
   "execution_count": 2,
   "metadata": {},
   "outputs": [
    {
     "name": "stdout",
     "output_type": "stream",
     "text": [
      "root\n",
      " |-- userID: integer (nullable = true)\n",
      " |-- name: string (nullable = true)\n",
      " |-- age: integer (nullable = true)\n",
      " |-- friends: integer (nullable = true)\n",
      "\n"
     ]
    }
   ],
   "source": [
    "\n",
    "inputDF.printSchema()\n"
   ]
  },
  {
   "cell_type": "code",
   "execution_count": 3,
   "metadata": {},
   "outputs": [],
   "source": [
    "\n",
    "outputDir = \"./output/\"\n",
    "checkpointDir = \"./checkpoint/\"\n",
    "resultDF = inputDF\n",
    "\n",
    "streamingQuery = (resultDF.writeStream\n",
    ".format(\"csv\")\n",
    "\n",
    ".option(\"path\", outputDir)\n",
    ".option(\"checkpointLocation\", checkpointDir)\n",
    ".start())\n",
    "\n"
   ]
  },
  {
   "cell_type": "code",
   "execution_count": null,
   "metadata": {},
   "outputs": [],
   "source": []
  }
 ],
 "metadata": {
  "kernelspec": {
   "display_name": "Python 3 (ipykernel)",
   "language": "python",
   "name": "python3"
  },
  "language_info": {
   "codemirror_mode": {
    "name": "ipython",
    "version": 3
   },
   "file_extension": ".py",
   "mimetype": "text/x-python",
   "name": "python",
   "nbconvert_exporter": "python",
   "pygments_lexer": "ipython3",
   "version": "3.11.6"
  }
 },
 "nbformat": 4,
 "nbformat_minor": 4
}
